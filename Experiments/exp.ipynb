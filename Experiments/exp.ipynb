{
 "metadata": {
  "language_info": {
   "codemirror_mode": {
    "name": "ipython",
    "version": 3
   },
   "file_extension": ".py",
   "mimetype": "text/x-python",
   "name": "python",
   "nbconvert_exporter": "python",
   "pygments_lexer": "ipython3",
   "version": "3.8.5"
  },
  "orig_nbformat": 4,
  "kernelspec": {
   "name": "python3",
   "display_name": "Python 3.8.5 64-bit"
  },
  "interpreter": {
   "hash": "aee8b7b246df8f9039afb4144a1f6fd8d2ca17a180786b69acc140d282b71a49"
  }
 },
 "nbformat": 4,
 "nbformat_minor": 2,
 "cells": [
  {
   "cell_type": "code",
   "execution_count": 67,
   "metadata": {},
   "outputs": [],
   "source": [
    "from pathlib import Path\n",
    "import os\n",
    "from datetime import datetime\n",
    "from datetime import timedelta\n",
    "from send2trash import send2trash\n",
    "import shutil"
   ]
  },
  {
   "cell_type": "code",
   "execution_count": 11,
   "metadata": {},
   "outputs": [],
   "source": [
    "dir_path = '/Users/shiqiangxia/Desktop/file_organizer_project/Experiments/pic_used/'"
   ]
  },
  {
   "cell_type": "code",
   "execution_count": 17,
   "metadata": {},
   "outputs": [],
   "source": [
    "current_dir = Path(dir_path)"
   ]
  },
  {
   "cell_type": "code",
   "execution_count": 31,
   "metadata": {},
   "outputs": [
    {
     "output_type": "stream",
     "name": "stdout",
     "text": [
      "2021-05-30 14:48:57.090725\n"
     ]
    }
   ],
   "source": [
    "most_recent = datetime.now() - timedelta(days = 30)\n",
    "print(most_recent)"
   ]
  },
  {
   "cell_type": "code",
   "execution_count": 40,
   "metadata": {},
   "outputs": [
    {
     "output_type": "stream",
     "name": "stdout",
     "text": [
      "Num files: 20\nRecent files: 1\nNum subdirs: 3\nDir size: 25756655\n"
     ]
    }
   ],
   "source": [
    "# step 1: access files\n",
    "RECENT_DAYS  = 30\n",
    "most_recent = datetime.now() - timedelta(days = RECENT_DAYS)\n",
    "num_file = 0\n",
    "num_subdir = 0\n",
    "dir_size = 0\n",
    "num_recent_file = 0\n",
    "\n",
    "for entry in current_dir.iterdir():\n",
    "    if entry.is_file():\n",
    "        num_file += 1\n",
    "        dir_size += entry.stat().st_size\n",
    "        mtime = datetime.fromtimestamp(entry.stat().st_mtime)\n",
    "        #print('Name %s, Time: %s' %(entry.name, mtime))\n",
    "        if mtime > most_recent:\n",
    "            num_recent_file += 1\n",
    "\n",
    "    if entry.is_dir():\n",
    "        num_subdir += 1\n",
    "    \n",
    "    \n",
    "for f in current_dir.glob('**/*'):\n",
    "    if f.is_file():\n",
    "        dir_size += f.stat().st_size\n",
    "\n",
    "print('Num files: %d' % num_file)\n",
    "print('Recent files: %d' % num_recent_file)\n",
    "print('Num subdirs: %d' % num_subdir)\n",
    "print('Dir size: %d' % dir_size)"
   ]
  },
  {
   "cell_type": "code",
   "execution_count": 68,
   "metadata": {},
   "outputs": [],
   "source": [
    "trash_dir = current_dir.absolute().as_posix()+'/trash_bin/'"
   ]
  },
  {
   "cell_type": "code",
   "execution_count": 66,
   "metadata": {},
   "outputs": [],
   "source": [
    "trash = Path(trash_dir)\n",
    "trash.mkdir()"
   ]
  },
  {
   "cell_type": "code",
   "execution_count": 74,
   "metadata": {},
   "outputs": [],
   "source": [
    "def create_dir(current_dir, name):\n",
    "    path = current_dir.absolute().as_posix() + '/' + name\n",
    "    p = Path(path)\n",
    "    p.mkdir()\n",
    "    return(path)"
   ]
  },
  {
   "cell_type": "code",
   "execution_count": 75,
   "metadata": {},
   "outputs": [
    {
     "output_type": "stream",
     "name": "stdout",
     "text": [
      "File: uhstar_har.eps\n",
      "File: err_uhstar_3d.png\n",
      "File: err_uh_3d.png\n",
      "There is no move dirs yet.\n",
      "File: compare_num_recovered_eigenvaluesk=1vsNv2.eps\n",
      "There is no move dirs yet.\n",
      "File: .DS_Store\n",
      "File: err_uh_2d.png\n",
      "0  type1\n",
      "-1: create a new folder\n",
      "File: err_uhstar_2d.png\n",
      "0  type1\n",
      "-1: create a new folder\n",
      "File: num_eig_vs_time_k=1v2.eps\n",
      "File: uh_har.eps\n",
      "File: ConvPlotk1Eig3.eps\n"
     ]
    }
   ],
   "source": [
    "# step 2: manipulate files\n",
    "# delete, redo, skip, move\n",
    "# build a trash dir to store all the trash in the end more files to recycle bin and delete trash dir\n",
    "move_dirs_path = []\n",
    "move_dirs_name = []\n",
    "action_list = []\n",
    "trash_dir = create_dir(current_dir, 'trash_bin')\n",
    "\n",
    "for entry in current_dir.iterdir():\n",
    "    if entry.is_file():\n",
    "        input_flag = True\n",
    "        print('File: %s' % entry.name)\n",
    "        while(input_flag):\n",
    "            action = input('0: delete, 1: Pass, 2: Move 3: done')\n",
    "            if action in ['0','1','2','3']:\n",
    "                input_flag = False\n",
    "            else:\n",
    "                print('Wrong input %s  do it again' %action)\n",
    "        \n",
    "        if action == '0':\n",
    "            # delete\n",
    "            file_path = entry.absolute().as_posix()\n",
    "            shutil.move(file_path,trash_dir)\n",
    "            action_list.append(action)\n",
    "\n",
    "        elif action == '1':\n",
    "            # pass\n",
    "            action_list.append(action)\n",
    "            \n",
    "        elif action == '2':\n",
    "            # Move \n",
    "            file_path = entry.absolute().as_posix()\n",
    "            if not move_dirs_path:\n",
    "                print('There is no move dirs yet.')\n",
    "                action2 = input('1: create dir 0: pass')\n",
    "                if action2 == '1':\n",
    "                    dir_name = input('Input dir name:')\n",
    "                    move_dirs_name.append(dir_name)\n",
    "                    temp_path = create_dir(current_dir, dir_name)\n",
    "                    move_dirs_path.append(temp_path)\n",
    "                    shutil.move(file_path,temp_path)\n",
    "                    action_list.append(action)\n",
    "                else:\n",
    "                    action_list.append('1')\n",
    "            else:\n",
    "                for ii, l in enumerate(move_dirs_name):\n",
    "                    print('%d  %s' %(ii, l))\n",
    "                print('-1: create a new folder')\n",
    "                move_dir_id = int(input('Choose which folder to move:'))\n",
    "                if move_dir_id >= 0:\n",
    "                    temp_path = move_dirs_path[move_dir_id]\n",
    "                    shutil.move(file_path,temp_path)\n",
    "                    action_list.append(action)\n",
    "                else:\n",
    "                    dir_name = input('Input dir name:')\n",
    "                    move_dirs_name.append(dir_name)\n",
    "                    temp_path = create_dir(current_dir, dir_name)\n",
    "                    move_dirs_path.append(temp_path)\n",
    "                    shutil.move(file_path,temp_path)\n",
    "                    action_list.append(action)\n",
    "\n",
    "        else:\n",
    "            # done\n",
    "            # move trash files to reycle bin and delete trash\n",
    "            trash = Path(trash_dir)\n",
    "            for f in trash.iterdir():\n",
    "                send2trash(f.absolute().as_posix())\n",
    "            trash.rmdir()\n",
    "\n",
    "            action_list.append(action)\n",
    "            break\n",
    "\n",
    "        \n",
    "        \n",
    "\n"
   ]
  },
  {
   "cell_type": "code",
   "execution_count": 44,
   "metadata": {},
   "outputs": [
    {
     "output_type": "stream",
     "name": "stdout",
     "text": [
      "/Users/shiqiangxia/Desktop/file_organizer_project/Experiments/pic_used/uhstar_har.eps\n/Users/shiqiangxia/Desktop/file_organizer_project/Experiments/pic_used/err_uhstar_3d.png\n/Users/shiqiangxia/Desktop/file_organizer_project/Experiments/pic_used/err_uh_3d.png\n/Users/shiqiangxia/Desktop/file_organizer_project/Experiments/pic_used/orgi_pic\n/Users/shiqiangxia/Desktop/file_organizer_project/Experiments/pic_used/compare_num_recovered_eigenvaluesk=1vsNv2.eps\n/Users/shiqiangxia/Desktop/file_organizer_project/Experiments/pic_used/.DS_Store\n/Users/shiqiangxia/Desktop/file_organizer_project/Experiments/pic_used/err_uh_2d.png\n/Users/shiqiangxia/Desktop/file_organizer_project/Experiments/pic_used/err_uhstar_2d.png\n/Users/shiqiangxia/Desktop/file_organizer_project/Experiments/pic_used/num_eig_vs_time_k=1v2.eps\n/Users/shiqiangxia/Desktop/file_organizer_project/Experiments/pic_used/uh_har.eps\n/Users/shiqiangxia/Desktop/file_organizer_project/Experiments/pic_used/ConvPlotk1Eig3.eps\n/Users/shiqiangxia/Desktop/file_organizer_project/Experiments/pic_used/edi_pic 2\n/Users/shiqiangxia/Desktop/file_organizer_project/Experiments/pic_used/pic_temp\n/Users/shiqiangxia/Desktop/file_organizer_project/Experiments/pic_used/Screen Shot 2021-01-15 at 10.49.00 AM.png\n/Users/shiqiangxia/Desktop/file_organizer_project/Experiments/pic_used/ustar_2d.png\n/Users/shiqiangxia/Desktop/file_organizer_project/Experiments/pic_used/uh_3d.png\n/Users/shiqiangxia/Desktop/file_organizer_project/Experiments/pic_used/Lshape_ustar_2d.png\n/Users/shiqiangxia/Desktop/file_organizer_project/Experiments/pic_used/Lshape_ustar_3d.png\n/Users/shiqiangxia/Desktop/file_organizer_project/Experiments/pic_used/uh_2d.png\n/Users/shiqiangxia/Desktop/file_organizer_project/Experiments/pic_used/ustar_3d.png\n/Users/shiqiangxia/Desktop/file_organizer_project/Experiments/pic_used/uexact_2d.png\n/Users/shiqiangxia/Desktop/file_organizer_project/Experiments/pic_used/Lshpae_uh_3d.png\n/Users/shiqiangxia/Desktop/file_organizer_project/Experiments/pic_used/uexact_3d.png\n"
     ]
    }
   ],
   "source": [
    "for entry in current_dir.iterdir():\n",
    "    print(entry.absolute())"
   ]
  },
  {
   "cell_type": "code",
   "execution_count": 54,
   "metadata": {},
   "outputs": [],
   "source": [
    "file_path = '/Users/shiqiangxia/Desktop/file_organizer_project/Experiments/pic_used/uhstar_har.eps'\n",
    "send2trash(file_path)"
   ]
  },
  {
   "cell_type": "code",
   "execution_count": 57,
   "metadata": {},
   "outputs": [
    {
     "output_type": "execute_result",
     "data": {
      "text/plain": [
       "'/Users/shiqiangxia/Desktop/file_organizer_project/Experiments/pic_used'"
      ]
     },
     "metadata": {},
     "execution_count": 57
    }
   ],
   "source": [
    "current_dir.absolute().as_posix()"
   ]
  },
  {
   "cell_type": "code",
   "execution_count": null,
   "metadata": {},
   "outputs": [],
   "source": []
  }
 ]
}