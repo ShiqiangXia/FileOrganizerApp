{
 "metadata": {
  "language_info": {
   "codemirror_mode": {
    "name": "ipython",
    "version": 3
   },
   "file_extension": ".py",
   "mimetype": "text/x-python",
   "name": "python",
   "nbconvert_exporter": "python",
   "pygments_lexer": "ipython3",
   "version": "3.8.5"
  },
  "orig_nbformat": 4,
  "kernelspec": {
   "name": "python3",
   "display_name": "Python 3.8.5 64-bit"
  },
  "interpreter": {
   "hash": "aee8b7b246df8f9039afb4144a1f6fd8d2ca17a180786b69acc140d282b71a49"
  }
 },
 "nbformat": 4,
 "nbformat_minor": 2,
 "cells": [
  {
   "cell_type": "code",
   "execution_count": 1,
   "metadata": {},
   "outputs": [],
   "source": [
    "from pathlib import Path\n",
    "import os\n",
    "from datetime import datetime\n",
    "from datetime import timedelta\n",
    "from send2trash import send2trash\n",
    "import shutil"
   ]
  },
  {
   "cell_type": "code",
   "execution_count": 3,
   "metadata": {},
   "outputs": [],
   "source": [
    "folder_path = '/Users/shiqiangxia/Desktop/file_organizer_project/Experiments/pic_used/'\n",
    "folder_dir = Path(folder_path)"
   ]
  },
  {
   "cell_type": "code",
   "execution_count": 21,
   "metadata": {},
   "outputs": [
    {
     "output_type": "stream",
     "name": "stdout",
     "text": [
      "Num files: 20\nRecent files: 12\nNum subdirs: 3\nDir size: 19192530\n"
     ]
    }
   ],
   "source": [
    "# step 1: access files\n",
    "RECENT_DAYS  = 30\n",
    "most_recent = datetime.now() - timedelta(days = RECENT_DAYS)\n",
    "num_file = 0\n",
    "num_subdir = 0\n",
    "dir_size = 0\n",
    "num_recent_file = 0\n",
    "file_list = []\n",
    "subdir_name_list = []\n",
    "\n",
    "for entry in folder_dir.iterdir():\n",
    "    if entry.is_file():\n",
    "        file_list.append(entry)\n",
    "        num_file += 1\n",
    "        mtime = datetime.fromtimestamp(entry.stat().st_mtime)\n",
    "        if mtime > most_recent:\n",
    "            num_recent_file += 1\n",
    "\n",
    "    if entry.is_dir():\n",
    "        num_subdir += 1\n",
    "        subdir_name_list.append(entry.name)\n",
    "    \n",
    "    \n",
    "for f in folder_dir.glob('**/*'):\n",
    "    if f.is_file():\n",
    "        dir_size += f.stat().st_size\n",
    "\n",
    "print('Num files: %d' % num_file)\n",
    "print('Recent files: %d' % num_recent_file)\n",
    "print('Num subdirs: %d' % num_subdir)\n",
    "print('Dir size: %d' % dir_size)"
   ]
  },
  {
   "cell_type": "code",
   "execution_count": 5,
   "metadata": {},
   "outputs": [],
   "source": [
    "def create_dir(current_dir, name):\n",
    "    path = current_dir.absolute().as_posix() + '/' + name\n",
    "    p = Path(path)\n",
    "    try:\n",
    "        p.mkdir()\n",
    "    except FileExistsError as exc:\n",
    "        print('Folder %s already exists!'%name)\n",
    "    return(path)"
   ]
  },
  {
   "cell_type": "code",
   "execution_count": 33,
   "metadata": {},
   "outputs": [],
   "source": [
    "def print_window(file_name):\n",
    "    print('---'*20)\n",
    "    print('0: delete, 1: Pass, 2: Move to... 3: Undo, 4: Done, 5: Preview file(only for Mac)')\n",
    "    print('   ')\n",
    "    print('>> File: %s' % file_name)\n"
   ]
  },
  {
   "cell_type": "code",
   "execution_count": 32,
   "metadata": {},
   "outputs": [],
   "source": [
    "def get_action(file_path):\n",
    "    input_flag = True\n",
    "    while(input_flag):\n",
    "        action = input() #input('0: delete, 1: Pass, 2: Move to... 3: Undo, 4: Done')\n",
    "        if action in ['0','1','2','3','4']:\n",
    "            input_flag = False\n",
    "        elif action == '5':\n",
    "            cmd = \"qlmanage -p \" + file_path\n",
    "            os.popen(cmd).read()\n",
    "\n",
    "        else:\n",
    "            print('Invalid input \"%s\", do it again' %action)\n",
    "    return(action)"
   ]
  },
  {
   "cell_type": "code",
   "execution_count": 26,
   "metadata": {},
   "outputs": [],
   "source": [
    "def move_file(file_path, target_folder_path,target_path):\n",
    "    \n",
    "    # move file to target file folder\n",
    "    new_path = shutil.move(file_path,target_folder_path)\n",
    "\n",
    "    # add the path of the file after action\n",
    "    target_path.append(new_path)\n",
    "    \n",
    "\n",
    "def create_move_dir(current_dir):\n",
    "    dir_name = input('Input folder name:')\n",
    "    temp_path = create_dir(current_dir, dir_name)\n",
    "    return(dir_name,temp_path)\n",
    "\n",
    "def move_action(file_path, current_dir, move_dirs_path, move_dirs_name, target_path):\n",
    "\n",
    "    if not move_dirs_path:\n",
    "        print('No move folders yet. Create a new folder: ')\n",
    "        dir_name,temp_path = create_move_dir(current_dir)\n",
    "        move_dirs_name.append(dir_name)\n",
    "        move_dirs_path.append(temp_path)\n",
    "        move_file(file_path, temp_path,target_path)\n",
    "    \n",
    "    else:\n",
    "        print('Move folders: ')\n",
    "        for ii, l in enumerate(move_dirs_name):\n",
    "            print('%d  %s' %(ii, l))\n",
    "        print('-1: create a new folder')\n",
    "\n",
    "        temp_flag = True\n",
    "        while(temp_flag):\n",
    "            try: \n",
    "                move_dir_id = int(input('Choose which folder to move:'))\n",
    "            except:\n",
    "                print('Invalid input')\n",
    "            else:\n",
    "                temp_flag = False\n",
    "\n",
    "        if move_dir_id >= 0:\n",
    "            temp_path = move_dirs_path[move_dir_id]\n",
    "            dir_name = move_dirs_name[move_dir_id]\n",
    "            move_file(file_path, temp_path, target_path)\n",
    "            action_list.append('2')\n",
    "        else:\n",
    "            dir_name,temp_path = create_move_dir(current_dir)\n",
    "            move_dirs_name.append(dir_name)\n",
    "            move_dirs_path.append(temp_path)\n",
    "            move_file(file_path, temp_path,target_path)\n",
    "            \n",
    "    return(dir_name)\n",
    "            \n",
    "\n",
    "def undo_action(previous_action, current_path, old_dir):\n",
    "\n",
    "    if previous_action in ['0','2']:\n",
    "        new_path = shutil.move(current_path,old_dir)\n",
    "        temp_file = Path(new_path)\n",
    "\n",
    "    elif previous_action == '1':\n",
    "        temp_file = Path(current_path)\n",
    "\n",
    "    return(temp_file)\n",
    "            \n",
    "def done_action(trash_path):\n",
    "    # move trash files to reycle bin and delete trash\n",
    "    trash_dir = Path(trash_path)\n",
    "    for f in trash_dir.iterdir():\n",
    "        send2trash(f.absolute().as_posix())\n",
    "    trash_dir.rmdir()\n"
   ]
  },
  {
   "cell_type": "code",
   "execution_count": 34,
   "metadata": {},
   "outputs": [
    {
     "output_type": "stream",
     "name": "stdout",
     "text": [
      "------------------------------------------------------------\n",
      "0: delete, 1: Pass, 2: Move to... 3: Undo, 4: Done, 5: Preview file(only for Mac)\n",
      "   \n",
      ">> File: uh_2d.png\n",
      ">> Done and quit\n"
     ]
    }
   ],
   "source": [
    "# step 2: manipulate files\n",
    "# delete, redo, skip, move\n",
    "# build a trash dir to store all the trash in the end more files to recycle bin and delete trash dir\n",
    "move_dirs_path = []\n",
    "move_dirs_name = []\n",
    "action_list = []\n",
    "target_path = []\n",
    "trash_path = create_dir(folder_dir, 'trash_bin')\n",
    "\n",
    "#for entry in current_dir.iterdir():\n",
    "while file_list:\n",
    "\n",
    "    entry = file_list.pop()\n",
    "\n",
    "    if entry.is_file():\n",
    "        file_name = entry.name\n",
    "        # get file path\n",
    "        file_path = entry.absolute().as_posix()\n",
    "\n",
    "        print_window(file_name)\n",
    "        action = get_action(file_path)\n",
    "        \n",
    "        if action == '0':\n",
    "            # delete\n",
    "            move_file(file_path, trash_path, target_path)\n",
    "            action_list.append(action)\n",
    "\n",
    "            print('>> %s deleted!'%file_name)\n",
    "\n",
    "        elif action == '1':\n",
    "            # pass\n",
    "            target_path.append(file_path)\n",
    "            action_list.append(action)\n",
    "            print('>> %s passed!'%file_name)\n",
    "\n",
    "        elif action == '2':\n",
    "            # Move \n",
    "            move_folder_name = move_action(file_path, folder_dir, move_dirs_path, move_dirs_name,target_path)\n",
    "            action_list.append(action)\n",
    "            print('>> %s moved to folder[%s]!'%(file_name, move_folder_name))\n",
    "              \n",
    "        elif action == '3':\n",
    "            # undo the last action\n",
    "            # return to previous file\n",
    "            file_list.append(entry)\n",
    "            if action_list:\n",
    "                previous_action = action_list.pop()\n",
    "                temp_path = target_path.pop()\n",
    "                temp_entry = undo_action(previous_action, temp_path, folder_dir)\n",
    "                file_list.append(temp_entry)\n",
    "                print('>> Undo the last action.')\n",
    "            else:\n",
    "                print('No action to undo!')\n",
    "            \n",
    "\n",
    "        else:\n",
    "            # done\n",
    "            done_action(trash_path)\n",
    "            print('>> Done and quit')\n",
    "            break\n",
    "\n",
    "        \n",
    "        \n",
    "\n",
    "        \n",
    "        \n",
    "\n"
   ]
  },
  {
   "cell_type": "code",
   "execution_count": 102,
   "metadata": {},
   "outputs": [],
   "source": [
    "a = Path('fsdfsf/sfsd')"
   ]
  },
  {
   "cell_type": "code",
   "execution_count": 103,
   "metadata": {},
   "outputs": [
    {
     "output_type": "execute_result",
     "data": {
      "text/plain": [
       "False"
      ]
     },
     "metadata": {},
     "execution_count": 103
    }
   ],
   "source": [
    "a.is_file()"
   ]
  },
  {
   "cell_type": "code",
   "execution_count": 31,
   "metadata": {},
   "outputs": [
    {
     "output_type": "execute_result",
     "data": {
      "text/plain": [
       "'Testing Quick Look preview with files:\\n\\terr_uh_3d.png\\n'"
      ]
     },
     "metadata": {},
     "execution_count": 31
    }
   ],
   "source": [
    "# QuickLook\n",
    "name = 'err_uh_3d.png'\n",
    "cmd = \"qlmanage -p \" + name\n",
    "os.popen(cmd).read()"
   ]
  },
  {
   "cell_type": "code",
   "execution_count": 93,
   "metadata": {},
   "outputs": [],
   "source": [
    "import sys"
   ]
  },
  {
   "cell_type": "code",
   "execution_count": 94,
   "metadata": {},
   "outputs": [
    {
     "output_type": "execute_result",
     "data": {
      "text/plain": [
       "'darwin'"
      ]
     },
     "metadata": {},
     "execution_count": 94
    }
   ],
   "source": [
    "sys.platform"
   ]
  },
  {
   "cell_type": "code",
   "execution_count": null,
   "metadata": {},
   "outputs": [],
   "source": [
    "# 1. create a square window with options\n",
    "# 2. write each action as function to clean the code\n",
    "# 3. give a status bar"
   ]
  },
  {
   "cell_type": "code",
   "execution_count": null,
   "metadata": {},
   "outputs": [],
   "source": []
  }
 ]
}