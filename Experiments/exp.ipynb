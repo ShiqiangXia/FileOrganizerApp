{
 "metadata": {
  "language_info": {
   "codemirror_mode": {
    "name": "ipython",
    "version": 3
   },
   "file_extension": ".py",
   "mimetype": "text/x-python",
   "name": "python",
   "nbconvert_exporter": "python",
   "pygments_lexer": "ipython3",
   "version": "3.8.5"
  },
  "orig_nbformat": 4,
  "kernelspec": {
   "name": "python3",
   "display_name": "Python 3.8.5 64-bit"
  },
  "interpreter": {
   "hash": "aee8b7b246df8f9039afb4144a1f6fd8d2ca17a180786b69acc140d282b71a49"
  }
 },
 "nbformat": 4,
 "nbformat_minor": 2,
 "cells": [
  {
   "cell_type": "code",
   "execution_count": 67,
   "metadata": {},
   "outputs": [],
   "source": [
    "from pathlib import Path\n",
    "import os\n",
    "from datetime import datetime\n",
    "from datetime import timedelta\n",
    "from send2trash import send2trash\n",
    "import shutil"
   ]
  },
  {
   "cell_type": "code",
   "execution_count": 11,
   "metadata": {},
   "outputs": [],
   "source": [
    "dir_path = '/Users/shiqiangxia/Desktop/file_organizer_project/Experiments/pic_used/'"
   ]
  },
  {
   "cell_type": "code",
   "execution_count": 17,
   "metadata": {},
   "outputs": [],
   "source": [
    "current_dir = Path(dir_path)"
   ]
  },
  {
   "cell_type": "code",
   "execution_count": 31,
   "metadata": {},
   "outputs": [
    {
     "output_type": "stream",
     "name": "stdout",
     "text": [
      "2021-05-30 14:48:57.090725\n"
     ]
    }
   ],
   "source": [
    "most_recent = datetime.now() - timedelta(days = 30)\n",
    "print(most_recent)"
   ]
  },
  {
   "cell_type": "code",
   "execution_count": 106,
   "metadata": {},
   "outputs": [
    {
     "output_type": "stream",
     "name": "stdout",
     "text": [
      "Num files: 17\nRecent files: 2\nNum subdirs: 5\nDir size: 24503851\n"
     ]
    }
   ],
   "source": [
    "# step 1: access files\n",
    "RECENT_DAYS  = 30\n",
    "most_recent = datetime.now() - timedelta(days = RECENT_DAYS)\n",
    "num_file = 0\n",
    "num_subdir = 0\n",
    "dir_size = 0\n",
    "num_recent_file = 0\n",
    "file_list = []\n",
    "\n",
    "for entry in current_dir.iterdir():\n",
    "    if entry.is_file():\n",
    "        file_list.append(entry)\n",
    "        num_file += 1\n",
    "        dir_size += entry.stat().st_size\n",
    "        mtime = datetime.fromtimestamp(entry.stat().st_mtime)\n",
    "        #print('Name %s, Time: %s' %(entry.name, mtime))\n",
    "        if mtime > most_recent:\n",
    "            num_recent_file += 1\n",
    "\n",
    "    if entry.is_dir():\n",
    "        num_subdir += 1\n",
    "    \n",
    "    \n",
    "for f in current_dir.glob('**/*'):\n",
    "    if f.is_file():\n",
    "        dir_size += f.stat().st_size\n",
    "\n",
    "print('Num files: %d' % num_file)\n",
    "print('Recent files: %d' % num_recent_file)\n",
    "print('Num subdirs: %d' % num_subdir)\n",
    "print('Dir size: %d' % dir_size)"
   ]
  },
  {
   "cell_type": "code",
   "execution_count": 68,
   "metadata": {},
   "outputs": [],
   "source": [
    "trash_dir = current_dir.absolute().as_posix()+'/trash_bin/'"
   ]
  },
  {
   "cell_type": "code",
   "execution_count": 66,
   "metadata": {},
   "outputs": [],
   "source": [
    "trash = Path(trash_dir)\n",
    "trash.mkdir()"
   ]
  },
  {
   "cell_type": "code",
   "execution_count": 74,
   "metadata": {},
   "outputs": [],
   "source": [
    "def create_dir(current_dir, name):\n",
    "    path = current_dir.absolute().as_posix() + '/' + name\n",
    "    p = Path(path)\n",
    "    p.mkdir()\n",
    "    return(path)"
   ]
  },
  {
   "cell_type": "code",
   "execution_count": 99,
   "metadata": {},
   "outputs": [
    {
     "output_type": "execute_result",
     "data": {
      "text/plain": [
       "16"
      ]
     },
     "metadata": {},
     "execution_count": 99
    }
   ],
   "source": [
    "len(file_list)"
   ]
  },
  {
   "cell_type": "code",
   "execution_count": 105,
   "metadata": {},
   "outputs": [
    {
     "output_type": "stream",
     "name": "stdout",
     "text": [
      ">> File: uexact_3d.png\n",
      ">> File: Lshpae_uh_3d.png\n",
      ">> File: uexact_3d.png\n",
      "There is no move dirs yet.\n",
      ">> File: Lshpae_uh_3d.png\n",
      "0  type2\n",
      "-1: create a new folder\n",
      ">> File: uexact_2d.png\n",
      ">> File: ustar_3d.png\n",
      ">> File: uexact_2d.png\n",
      ">> File: ustar_3d.png\n",
      ">> File: uh_2d.png\n",
      ">> File: Lshape_ustar_3d.png\n",
      ">> File: Lshape_ustar_2d.png\n",
      ">> File: Lshape_ustar_3d.png\n",
      ">> File: uh_2d.png\n",
      ">> File: ustar_3d.png\n",
      ">> File: uh_2d.png\n"
     ]
    }
   ],
   "source": [
    "# step 2: manipulate files\n",
    "# delete, redo, skip, move\n",
    "# build a trash dir to store all the trash in the end more files to recycle bin and delete trash dir\n",
    "move_dirs_path = []\n",
    "move_dirs_name = []\n",
    "action_list = []\n",
    "target_path = []\n",
    "trash_dir = create_dir(current_dir, 'trash_bin')\n",
    "\n",
    "#for entry in current_dir.iterdir():\n",
    "while file_list:\n",
    "\n",
    "    entry = file_list.pop()\n",
    "\n",
    "    if entry.is_file():\n",
    "        input_flag = True\n",
    "        print('>> File: %s' % entry.name)\n",
    "        while(input_flag):\n",
    "            action = input('0: delete, 1: Pass, 2: Move 3: Undo, 4: Quit')\n",
    "            if action in ['0','1','2','3','4']:\n",
    "                input_flag = False\n",
    "            else:\n",
    "                print('Wrong input %s  do it again' %action)\n",
    "        \n",
    "        if action == '0':\n",
    "            # delete\n",
    "            file_path = entry.absolute().as_posix()\n",
    "            shutil.move(file_path,trash_dir)\n",
    "            target_path.append(trash_dir+'/'+ entry.name)\n",
    "            action_list.append(action)\n",
    "\n",
    "        elif action == '1':\n",
    "            # pass\n",
    "            file_path = entry.absolute().as_posix()\n",
    "            target_path.append(file_path)\n",
    "            action_list.append(action)\n",
    "            \n",
    "        elif action == '2':\n",
    "            # Move \n",
    "            file_path = entry.absolute().as_posix()\n",
    "            if not move_dirs_path:\n",
    "                print('There is no move dirs yet.')\n",
    "                action2 = input('1: create dir 0: pass')\n",
    "                if action2 == '1':\n",
    "                    dir_name = input('Input dir name:')\n",
    "                    move_dirs_name.append(dir_name)\n",
    "                    temp_path = create_dir(current_dir, dir_name)\n",
    "                    move_dirs_path.append(temp_path)\n",
    "                    shutil.move(file_path,temp_path)\n",
    "                    target_path.append(temp_path+'/'+ entry.name)\n",
    "                    action_list.append(action)\n",
    "                else:\n",
    "                    action_list.append('1')\n",
    "            else:\n",
    "                for ii, l in enumerate(move_dirs_name):\n",
    "                    print('%d  %s' %(ii, l))\n",
    "                print('-1: create a new folder')\n",
    "                move_dir_id = int(input('Choose which folder to move:'))\n",
    "                if move_dir_id >= 0:\n",
    "                    temp_path = move_dirs_path[move_dir_id]\n",
    "                    shutil.move(file_path,temp_path)\n",
    "                    target_path.append(temp_path+'/'+ entry.name)\n",
    "                    action_list.append(action)\n",
    "                else:\n",
    "                    dir_name = input('Input dir name:')\n",
    "                    move_dirs_name.append(dir_name)\n",
    "                    temp_path = create_dir(current_dir, dir_name)\n",
    "                    move_dirs_path.append(temp_path)\n",
    "                    shutil.move(file_path,temp_path)\n",
    "                    target_path.append(temp_path+'/'+ entry.name)\n",
    "                    action_list.append(action)\n",
    "\n",
    "        elif action == '3':\n",
    "            # undo the last action\n",
    "            # return to previous file\n",
    "            file_list.append(entry)\n",
    "            previous_action = action_list.pop()\n",
    "            if previous_action in ['0','2']:\n",
    "                \n",
    "                temp_path = target_path.pop()\n",
    "                new_path = shutil.move(temp_path,current_dir)\n",
    "                temp_file = Path(new_path)\n",
    "                file_list.append(temp_file)\n",
    "                \n",
    "            elif previous_action == '1':\n",
    "                temp_path = target_path.pop()\n",
    "                temp_file = Path(temp_path)\n",
    "                file_list.append(temp_file)\n",
    "\n",
    "        else:\n",
    "            # done\n",
    "            # move trash files to reycle bin and delete trash\n",
    "            trash = Path(trash_dir)\n",
    "            for f in trash.iterdir():\n",
    "                send2trash(f.absolute().as_posix())\n",
    "            trash.rmdir()\n",
    "\n",
    "            action_list.append(action)\n",
    "            break\n",
    "\n",
    "        \n",
    "        \n",
    "\n"
   ]
  },
  {
   "cell_type": "code",
   "execution_count": 102,
   "metadata": {},
   "outputs": [],
   "source": [
    "a = Path('fsdfsf/sfsd')"
   ]
  },
  {
   "cell_type": "code",
   "execution_count": 103,
   "metadata": {},
   "outputs": [
    {
     "output_type": "execute_result",
     "data": {
      "text/plain": [
       "False"
      ]
     },
     "metadata": {},
     "execution_count": 103
    }
   ],
   "source": [
    "a.is_file()"
   ]
  },
  {
   "cell_type": "code",
   "execution_count": 92,
   "metadata": {},
   "outputs": [
    {
     "output_type": "stream",
     "name": "stdout",
     "text": [
      "Testing Quick Look preview with files:\n\terr_uh_3d.png\n\n"
     ]
    }
   ],
   "source": [
    "# QuickLook\n",
    "name = 'err_uh_3d.png'\n",
    "cmd = \"qlmanage -p \" + name\n",
    "print(os.popen(cmd).read())"
   ]
  },
  {
   "cell_type": "code",
   "execution_count": 93,
   "metadata": {},
   "outputs": [],
   "source": [
    "import sys"
   ]
  },
  {
   "cell_type": "code",
   "execution_count": 94,
   "metadata": {},
   "outputs": [
    {
     "output_type": "execute_result",
     "data": {
      "text/plain": [
       "'darwin'"
      ]
     },
     "metadata": {},
     "execution_count": 94
    }
   ],
   "source": [
    "sys.platform"
   ]
  },
  {
   "cell_type": "code",
   "execution_count": null,
   "metadata": {},
   "outputs": [],
   "source": []
  }
 ]
}